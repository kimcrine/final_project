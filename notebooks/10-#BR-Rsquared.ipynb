{
 "cells": [
  {
   "cell_type": "code",
   "execution_count": 1,
   "metadata": {},
   "outputs": [],
   "source": [
    "import warnings\n",
    "warnings.simplefilter('ignore')\n",
    "\n",
    "# %matplotlib inline\n",
    "import matplotlib.pyplot as plt\n",
    "import numpy as np\n",
    "import pandas as pd\n",
    "from scipy.stats import linregress"
   ]
  },
  {
   "cell_type": "code",
   "execution_count": 2,
   "metadata": {},
   "outputs": [
    {
     "data": {
      "text/html": [
       "<div>\n",
       "<style scoped>\n",
       "    .dataframe tbody tr th:only-of-type {\n",
       "        vertical-align: middle;\n",
       "    }\n",
       "\n",
       "    .dataframe tbody tr th {\n",
       "        vertical-align: top;\n",
       "    }\n",
       "\n",
       "    .dataframe thead th {\n",
       "        text-align: right;\n",
       "    }\n",
       "</style>\n",
       "<table border=\"1\" class=\"dataframe\">\n",
       "  <thead>\n",
       "    <tr style=\"text-align: right;\">\n",
       "      <th></th>\n",
       "      <th>Median Rent Price- 3BR</th>\n",
       "      <th>Median Rent Price</th>\n",
       "    </tr>\n",
       "    <tr>\n",
       "      <th>Date</th>\n",
       "      <th></th>\n",
       "      <th></th>\n",
       "    </tr>\n",
       "  </thead>\n",
       "  <tbody>\n",
       "    <tr>\n",
       "      <th>2010-02-28</th>\n",
       "      <td>1000.0</td>\n",
       "      <td>1150.0</td>\n",
       "    </tr>\n",
       "    <tr>\n",
       "      <th>2010-03-31</th>\n",
       "      <td>1050.0</td>\n",
       "      <td>1195.0</td>\n",
       "    </tr>\n",
       "    <tr>\n",
       "      <th>2010-04-30</th>\n",
       "      <td>1100.0</td>\n",
       "      <td>1200.0</td>\n",
       "    </tr>\n",
       "    <tr>\n",
       "      <th>2010-05-31</th>\n",
       "      <td>1100.0</td>\n",
       "      <td>1200.0</td>\n",
       "    </tr>\n",
       "    <tr>\n",
       "      <th>2010-06-30</th>\n",
       "      <td>1100.0</td>\n",
       "      <td>1200.0</td>\n",
       "    </tr>\n",
       "  </tbody>\n",
       "</table>\n",
       "</div>"
      ],
      "text/plain": [
       "            Median Rent Price- 3BR  Median Rent Price\n",
       "Date                                                 \n",
       "2010-02-28                  1000.0             1150.0\n",
       "2010-03-31                  1050.0             1195.0\n",
       "2010-04-30                  1100.0             1200.0\n",
       "2010-05-31                  1100.0             1200.0\n",
       "2010-06-30                  1100.0             1200.0"
      ]
     },
     "execution_count": 2,
     "metadata": {},
     "output_type": "execute_result"
    }
   ],
   "source": [
    "import quandl\n",
    "import pandas as pd\n",
    "quandl.ApiConfig.api_key = 'YOUR KEY HERE'\n",
    "def get_data(code_list):\n",
    "    all_data=[]\n",
    "    for each_code in code_list: \n",
    "        ary=quandl.get(f'ZILLOW/{each_code}', returns='numpy')\n",
    "#         all_data[each_code]=ary\n",
    "        one_df=pd.DataFrame(ary)\n",
    "        one_df=one_df.rename({'Value': each_code}, axis=1)#, columns=['Date', each_code])\n",
    "        one_df=one_df.set_index('Date')\n",
    "        all_data.append(one_df)\n",
    "    df=pd.concat(all_data, axis=1)\n",
    "    return df\n",
    "\n",
    "#Age of Inventory: Each Wednesday, age of inventory is calculated as the \n",
    "#median number of days all active listings as of that Wedne\n",
    "\n",
    "df = get_data(['M9_MRP3B', 'M9_MRPAH'])\n",
    "df = df.rename(columns={\"M9_MRP3B\": \"Median Rent Price- 3BR\", \n",
    "                        \"M9_MRPAH\": \"Median Rent Price\"})\n",
    "\n",
    "drop_na_df = df.dropna()\n",
    "drop_na_df.head()"
   ]
  },
  {
   "cell_type": "code",
   "execution_count": 3,
   "metadata": {},
   "outputs": [
    {
     "name": "stdout",
     "output_type": "stream",
     "text": [
      "The r-squared is: 0.9623828220461137\n"
     ]
    },
    {
     "data": {
      "image/png": "[encoded data removed]",
      "text/plain": [
       "<Figure size 432x288 with 1 Axes>"
      ]
     },
     "metadata": {
      "needs_background": "light"
     },
     "output_type": "display_data"
    }
   ],
   "source": [
    "x_values = drop_na_df['Median Rent Price']\n",
    "y_values = drop_na_df['Median Rent Price- 3BR']\n",
    "(slope, intercept, rvalue, pvalue, stderr) = linregress(x_values, y_values)\n",
    "regress_values = x_values * slope + intercept\n",
    "line_eq = \"y = \" + str(round(slope,2)) + \"x + \" + str(round(intercept,2))\n",
    "plt.scatter(x_values,y_values)\n",
    "plt.plot(x_values,regress_values,\"r-\")\n",
    "plt.annotate(line_eq,(.1,.1), fontsize=15,color=\"red\")\n",
    "plt.title('Median Rent Price- 3BR Vs Median Rent')\n",
    "plt.xlabel('Median Rent Price')\n",
    "plt.ylabel('Median Rent Price- 3BR')\n",
    "print(f\"The r-squared is: {rvalue**2}\")\n",
    "plt.show()\n"
   ]
  },
  {
   "cell_type": "markdown",
   "metadata": {},
   "source": [
    "# The Median Rent Price and 3BR Median Rent Price had the strongest correlation with a R-squared value of 0.9623828."
   ]
  },
  {
   "cell_type": "code",
   "execution_count": null,
   "metadata": {},
   "outputs": [],
   "source": []
  }
 ],
 "metadata": {
  "kernelspec": {
   "display_name": "Python [conda env:PythonData] *",
   "language": "python",
   "name": "conda-env-PythonData-py"
  },
  "language_info": {
   "codemirror_mode": {
    "name": "ipython",
    "version": 3
   },
   "file_extension": ".py",
   "mimetype": "text/x-python",
   "name": "python",
   "nbconvert_exporter": "python",
   "pygments_lexer": "ipython3",
   "version": "3.6.10"
  }
 },
 "nbformat": 4,
 "nbformat_minor": 4
}
