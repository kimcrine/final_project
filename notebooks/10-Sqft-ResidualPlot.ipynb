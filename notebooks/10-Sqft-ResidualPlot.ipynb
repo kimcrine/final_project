{
 "cells": [
  {
   "cell_type": "code",
   "execution_count": 1,
   "metadata": {},
   "outputs": [],
   "source": [
    "import warnings\n",
    "warnings.simplefilter('ignore')\n",
    "\n",
    "# %matplotlib inline\n",
    "import matplotlib.pyplot as plt\n",
    "import numpy as np\n",
    "import pandas as pd"
   ]
  },
  {
   "cell_type": "code",
   "execution_count": 2,
   "metadata": {},
   "outputs": [
    {
     "data": {
      "text/html": [
       "<div>\n",
       "<style scoped>\n",
       "    .dataframe tbody tr th:only-of-type {\n",
       "        vertical-align: middle;\n",
       "    }\n",
       "\n",
       "    .dataframe tbody tr th {\n",
       "        vertical-align: top;\n",
       "    }\n",
       "\n",
       "    .dataframe thead th {\n",
       "        text-align: right;\n",
       "    }\n",
       "</style>\n",
       "<table border=\"1\" class=\"dataframe\">\n",
       "  <thead>\n",
       "    <tr style=\"text-align: right;\">\n",
       "      <th></th>\n",
       "      <th>Median Rent Price Per Sqft</th>\n",
       "      <th>Median Sold Price Per Sqft</th>\n",
       "      <th>Median List Price Per Sqft</th>\n",
       "      <th>Median Rent Price</th>\n",
       "    </tr>\n",
       "    <tr>\n",
       "      <th>Date</th>\n",
       "      <th></th>\n",
       "      <th></th>\n",
       "      <th></th>\n",
       "      <th></th>\n",
       "    </tr>\n",
       "  </thead>\n",
       "  <tbody>\n",
       "    <tr>\n",
       "      <th>2010-01-31</th>\n",
       "      <td>0.727402</td>\n",
       "      <td>83.6435</td>\n",
       "      <td>93.546798</td>\n",
       "      <td>1012.5</td>\n",
       "    </tr>\n",
       "    <tr>\n",
       "      <th>2010-02-28</th>\n",
       "      <td>0.716958</td>\n",
       "      <td>80.8857</td>\n",
       "      <td>93.266667</td>\n",
       "      <td>1150.0</td>\n",
       "    </tr>\n",
       "    <tr>\n",
       "      <th>2010-03-31</th>\n",
       "      <td>0.716958</td>\n",
       "      <td>78.0938</td>\n",
       "      <td>93.991737</td>\n",
       "      <td>1195.0</td>\n",
       "    </tr>\n",
       "    <tr>\n",
       "      <th>2010-04-30</th>\n",
       "      <td>0.722383</td>\n",
       "      <td>79.9646</td>\n",
       "      <td>94.437564</td>\n",
       "      <td>1200.0</td>\n",
       "    </tr>\n",
       "    <tr>\n",
       "      <th>2010-05-31</th>\n",
       "      <td>0.722983</td>\n",
       "      <td>82.2230</td>\n",
       "      <td>93.065811</td>\n",
       "      <td>1200.0</td>\n",
       "    </tr>\n",
       "  </tbody>\n",
       "</table>\n",
       "</div>"
      ],
      "text/plain": [
       "            Median Rent Price Per Sqft  Median Sold Price Per Sqft  \\\n",
       "Date                                                                 \n",
       "2010-01-31                    0.727402                     83.6435   \n",
       "2010-02-28                    0.716958                     80.8857   \n",
       "2010-03-31                    0.716958                     78.0938   \n",
       "2010-04-30                    0.722383                     79.9646   \n",
       "2010-05-31                    0.722983                     82.2230   \n",
       "\n",
       "            Median List Price Per Sqft  Median Rent Price  \n",
       "Date                                                       \n",
       "2010-01-31                   93.546798             1012.5  \n",
       "2010-02-28                   93.266667             1150.0  \n",
       "2010-03-31                   93.991737             1195.0  \n",
       "2010-04-30                   94.437564             1200.0  \n",
       "2010-05-31                   93.065811             1200.0  "
      ]
     },
     "execution_count": 2,
     "metadata": {},
     "output_type": "execute_result"
    }
   ],
   "source": [
    "import quandl\n",
    "import pandas as pd\n",
    "quandl.ApiConfig.api_key = 'YOUR KEY HERE'\n",
    "def get_data(code_list):\n",
    "    all_data=[]\n",
    "    for each_code in code_list: \n",
    "        ary=quandl.get(f'ZILLOW/{each_code}', returns='numpy')\n",
    "#         all_data[each_code]=ary\n",
    "        one_df=pd.DataFrame(ary)\n",
    "        one_df=one_df.rename({'Value': each_code}, axis=1)#, columns=['Date', each_code])\n",
    "        one_df=one_df.set_index('Date')\n",
    "        all_data.append(one_df)\n",
    "    df=pd.concat(all_data, axis=1)\n",
    "    return df\n",
    "\n",
    "#Age of Inventory: Each Wednesday, age of inventory is calculated as the \n",
    "#median number of days all active listings as of that Wedne\n",
    "\n",
    "df = get_data(['M9_MRPFAH', 'M9_MSPFAH', 'M9_MLPFAH', 'M9_MRPAH'])\n",
    "df = df.rename(columns={\"M9_MRPFAH\": \"Median Rent Price Per Sqft\", \n",
    "                        \"M9_MSPFAH\": \"Median Sold Price Per Sqft\", \n",
    "                        \"M9_MLPFAH\": \"Median List Price Per Sqft\", \n",
    "                        \"M9_MRPAH\": \"Median Rent Price\"})\n",
    "\n",
    "drop_na_df = df.dropna()\n",
    "drop_na_df.head()"
   ]
  },
  {
   "cell_type": "code",
   "execution_count": 3,
   "metadata": {},
   "outputs": [
    {
     "data": {
      "text/html": [
       "<div>\n",
       "<style scoped>\n",
       "    .dataframe tbody tr th:only-of-type {\n",
       "        vertical-align: middle;\n",
       "    }\n",
       "\n",
       "    .dataframe tbody tr th {\n",
       "        vertical-align: top;\n",
       "    }\n",
       "\n",
       "    .dataframe thead th {\n",
       "        text-align: right;\n",
       "    }\n",
       "</style>\n",
       "<table border=\"1\" class=\"dataframe\">\n",
       "  <thead>\n",
       "    <tr style=\"text-align: right;\">\n",
       "      <th></th>\n",
       "      <th>Median Rent Price Per Sqft</th>\n",
       "      <th>Median Sold Price Per Sqft</th>\n",
       "      <th>Median List Price Per Sqft</th>\n",
       "    </tr>\n",
       "    <tr>\n",
       "      <th>Date</th>\n",
       "      <th></th>\n",
       "      <th></th>\n",
       "      <th></th>\n",
       "    </tr>\n",
       "  </thead>\n",
       "  <tbody>\n",
       "    <tr>\n",
       "      <th>2010-01-31</th>\n",
       "      <td>0.727402</td>\n",
       "      <td>83.6435</td>\n",
       "      <td>93.546798</td>\n",
       "    </tr>\n",
       "    <tr>\n",
       "      <th>2010-02-28</th>\n",
       "      <td>0.716958</td>\n",
       "      <td>80.8857</td>\n",
       "      <td>93.266667</td>\n",
       "    </tr>\n",
       "    <tr>\n",
       "      <th>2010-03-31</th>\n",
       "      <td>0.716958</td>\n",
       "      <td>78.0938</td>\n",
       "      <td>93.991737</td>\n",
       "    </tr>\n",
       "    <tr>\n",
       "      <th>2010-04-30</th>\n",
       "      <td>0.722383</td>\n",
       "      <td>79.9646</td>\n",
       "      <td>94.437564</td>\n",
       "    </tr>\n",
       "    <tr>\n",
       "      <th>2010-05-31</th>\n",
       "      <td>0.722983</td>\n",
       "      <td>82.2230</td>\n",
       "      <td>93.065811</td>\n",
       "    </tr>\n",
       "  </tbody>\n",
       "</table>\n",
       "</div>"
      ],
      "text/plain": [
       "            Median Rent Price Per Sqft  Median Sold Price Per Sqft  \\\n",
       "Date                                                                 \n",
       "2010-01-31                    0.727402                     83.6435   \n",
       "2010-02-28                    0.716958                     80.8857   \n",
       "2010-03-31                    0.716958                     78.0938   \n",
       "2010-04-30                    0.722383                     79.9646   \n",
       "2010-05-31                    0.722983                     82.2230   \n",
       "\n",
       "            Median List Price Per Sqft  \n",
       "Date                                    \n",
       "2010-01-31                   93.546798  \n",
       "2010-02-28                   93.266667  \n",
       "2010-03-31                   93.991737  \n",
       "2010-04-30                   94.437564  \n",
       "2010-05-31                   93.065811  "
      ]
     },
     "execution_count": 3,
     "metadata": {},
     "output_type": "execute_result"
    }
   ],
   "source": [
    "X = drop_na_df[[\"Median Rent Price Per Sqft\",\n",
    "                \"Median Sold Price Per Sqft\",\n",
    "                \"Median List Price Per Sqft\"]]\n",
    "y = drop_na_df[\"Median Rent Price\"].values.reshape(-1, 1)\n",
    "X.head()"
   ]
  },
  {
   "cell_type": "code",
   "execution_count": 4,
   "metadata": {},
   "outputs": [],
   "source": [
    "from sklearn.model_selection import train_test_split\n",
    "\n",
    "X_train, X_test, y_train, y_test = train_test_split(X, y, random_state=42)"
   ]
  },
  {
   "cell_type": "code",
   "execution_count": 5,
   "metadata": {},
   "outputs": [],
   "source": [
    "from sklearn.preprocessing import StandardScaler\n",
    "X_scaler = StandardScaler().fit(X_train)\n",
    "y_scaler = StandardScaler().fit(y_train)\n",
    "\n",
    "X_train_scaled = X_scaler.transform(X_train)\n",
    "X_test_scaled = X_scaler.transform(X_test)\n",
    "y_train_scaled = y_scaler.transform(y_train)\n",
    "y_test_scaled = y_scaler.transform(y_test)"
   ]
  },
  {
   "cell_type": "code",
   "execution_count": 6,
   "metadata": {},
   "outputs": [
    {
     "data": {
      "image/png": "[encoded data removed]",
      "text/plain": [
       "<Figure size 432x288 with 1 Axes>"
      ]
     },
     "metadata": {
      "needs_background": "light"
     },
     "output_type": "display_data"
    }
   ],
   "source": [
    "# Plot the results \n",
    "from sklearn.linear_model import LinearRegression\n",
    "model = LinearRegression()\n",
    "model.fit(X_train_scaled, y_train_scaled)\n",
    "plt.scatter(model.predict(X_train_scaled), model.predict(X_train_scaled) - y_train_scaled, c=\"blue\", label=\"Training Data\")\n",
    "plt.scatter(model.predict(X_test_scaled), model.predict(X_test_scaled) - y_test_scaled, c=\"orange\", label=\"Testing Data\")\n",
    "plt.legend()\n",
    "plt.hlines(y=0, xmin=y_test_scaled.min(), xmax=y_test_scaled.max())\n",
    "plt.title(\"Sqft Residual Plot\")\n",
    "plt.savefig('SqftResidualPlot.png')\n",
    "plt.show()"
   ]
  },
  {
   "cell_type": "code",
   "execution_count": 7,
   "metadata": {},
   "outputs": [
    {
     "name": "stdout",
     "output_type": "stream",
     "text": [
      "MSE: 0.3465646443506312, R2: 0.6114347993692942\n"
     ]
    }
   ],
   "source": [
    "from sklearn.metrics import mean_squared_error\n",
    "\n",
    "predictions = model.predict(X_test_scaled)\n",
    "MSE = mean_squared_error(y_test_scaled, predictions)\n",
    "r2 = model.score(X_test_scaled, y_test_scaled)\n",
    "\n",
    "print(f\"MSE: {MSE}, R2: {r2}\")"
   ]
  },
  {
   "cell_type": "markdown",
   "metadata": {},
   "source": [
    "# When all three are compared, there is less correlation between Rent, List and Sold prices per Sqft."
   ]
  },
  {
   "cell_type": "code",
   "execution_count": null,
   "metadata": {},
   "outputs": [],
   "source": []
  }
 ],
 "metadata": {
  "kernelspec": {
   "display_name": "Python [conda env:PythonData] *",
   "language": "python",
   "name": "conda-env-PythonData-py"
  },
  "language_info": {
   "codemirror_mode": {
    "name": "ipython",
    "version": 3
   },
   "file_extension": ".py",
   "mimetype": "text/x-python",
   "name": "python",
   "nbconvert_exporter": "python",
   "pygments_lexer": "ipython3",
   "version": "3.6.10"
  }
 },
 "nbformat": 4,
 "nbformat_minor": 4
}
